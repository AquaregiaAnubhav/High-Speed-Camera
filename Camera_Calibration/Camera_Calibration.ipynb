{
 "cells": [
  {
   "cell_type": "code",
   "execution_count": null,
   "id": "55f07115-c5c3-4f5b-957a-972d499320f3",
   "metadata": {},
   "outputs": [],
   "source": [
    "import cv2\n",
    "import os\n",
    "import subprocess\n",
    "import numpy as np\n",
    "import glob\n",
    "import time"
   ]
  },
  {
   "cell_type": "markdown",
   "id": "61ed6030-a4bf-49ac-bd44-c87c0487cfea",
   "metadata": {},
   "source": [
    "### Calibrating the camera using pre-taken images of chess board"
   ]
  },
  {
   "cell_type": "code",
   "execution_count": null,
   "id": "e680d5db-6280-49b6-bbf2-4a60b8e63058",
   "metadata": {},
   "outputs": [],
   "source": [
    "import numpy as np\n",
    "import cv2\n",
    "import glob\n",
    "ts= time.time()\n",
    "# Termination criteria for corner sub-pixel accuracy\n",
    "criteria = (cv2.TERM_CRITERIA_EPS + cv2.TERM_CRITERIA_MAX_ITER, 30, 0.001)\n",
    "\n",
    "# Prepare object points based on the grid size (squares of 1 unit size)\n",
    "grid_size = (7, 7)  # For an 8x8 chessboard, the inner corners grid is 7x7\n",
    "objp = np.zeros((grid_size[0] * grid_size[1], 3), np.float32)\n",
    "objp[:, :2] = np.mgrid[0:grid_size[0], 0:grid_size[1]].T.reshape(-1, 2)\n",
    "\n",
    "# Arrays to store object points and image points from all images\n",
    "objpoints = []\n",
    "imgpoints = []\n",
    "\n",
    "# Load images from the specified folder\n",
    "image_paths = glob.glob('../../Figures/Cam_2/*.jpg')  # Update with your image paths\n",
    "\n",
    "for fname in image_paths:\n",
    "    img = cv2.imread(fname)\n",
    "    \n",
    "    gray = cv2.cvtColor(img, cv2.COLOR_BGR2GRAY)\n",
    "    \n",
    "    # Find the chessboard corners\n",
    "    ret, corners = cv2.findChessboardCorners(gray, grid_size, None)\n",
    "    \n",
    "    # If found, add object points, image points (after refining them)\n",
    "    if ret:\n",
    "        objpoints.append(objp)\n",
    "        \n",
    "        corners2 = cv2.cornerSubPix(gray, corners, (11, 11), (-1, -1), criteria)\n",
    "        imgpoints.append(corners2)\n",
    "        \n",
    "        # Draw and display the corners (optional)\n",
    "        cv2.drawChessboardCorners(img, grid_size, corners2, ret)\n",
    "        cv2.imshow('img', img)\n",
    "        cv2.waitKey(100)  # Adjust the delay as needed\n",
    "    \n",
    "    else:\n",
    "        print(f\"Chessboard corners not found in image {fname}\")\n",
    "\n",
    "cv2.destroyAllWindows()\n",
    "\n",
    "# Calibrate the camera\n",
    "ret, mtx, dist, rvecs, tvecs = cv2.calibrateCamera(objpoints, imgpoints, gray.shape[::-1], None, None)\n",
    "te = time.time()\n",
    "t=te-ts\n",
    "print(t)\n",
    "print(\"Camera matrix:\\n\", mtx)\n",
    "print(\"Distortion coefficients:\\n\", dist)\n"
   ]
  },
  {
   "cell_type": "markdown",
   "id": "0da0f7cd-d9df-4343-82fb-44d30deed645",
   "metadata": {},
   "source": [
    "**Obtained matrices and coefficients for cam 2**"
   ]
  },
  {
   "cell_type": "markdown",
   "id": "71e62795-e197-47cc-aab9-04a3897521d7",
   "metadata": {},
   "source": [
    "Camera matrix:  \\\n",
    " [[500.23727865,   0.       ,         315.2966858 ] \\\n",
    " [  0.,            499.65909552, 251.36140266]  \\\n",
    " [  0.,           0.,           1.        ]]  \\\n",
    "Distortion coefficients:  \\\n",
    " [[-0.48160835,  0.34932479,  0.00271425, -0.00349605, -0.20166287]] "
   ]
  },
  {
   "cell_type": "code",
   "execution_count": null,
   "id": "587fbff4-5cdd-4dc4-9f99-64e609c2b1df",
   "metadata": {},
   "outputs": [],
   "source": [
    "import cv2\n",
    "import numpy as np\n",
    "\n",
    "# Camera matrix and distortion coefficients from calibration\n",
    "mtx = np.array([[500.23727865, 0., 315.2966858],\n",
    "                [0., 499.65909552, 251.36140266],\n",
    "                [0., 0., 1.]])\n",
    "dist = np.array([[-0.48160835, 0.34932479, 0.00271425, -0.00349605, -0.20166287]])\n",
    "\n",
    "# Load the image to be undistorted\n",
    "img = cv2.imread('captured_image.jpg')  # Replace with your image path\n",
    "\n",
    "# Undistort the image\n",
    "h, w = img.shape[:2]\n",
    "newcameramtx, _ = cv2.getOptimalNewCameraMatrix(mtx, dist, (w, h), 1, (w, h))\n",
    "\n",
    "# Use cv2.initUndistortRectifyMap and cv2.remap to undistort without cropping\n",
    "mapx, mapy = cv2.initUndistortRectifyMap(mtx, dist, None, newcameramtx, (w, h), 5)\n",
    "undistorted_img = cv2.remap(img, mapx, mapy, cv2.INTER_LINEAR)\n",
    "\n",
    "# Display the original and undistorted images side by side\n",
    "cv2.imshow('Original Image', img)\n",
    "cv2.imshow('Undistorted Image', undistorted_img)\n",
    "cv2.waitKey(0)\n",
    "cv2.destroyAllWindows()\n",
    "\n",
    "# Save the undistorted image\n",
    "cv2.imwrite('undistorted_image.jpg', undistorted_img)\n"
   ]
  },
  {
   "cell_type": "code",
   "execution_count": null,
   "id": "0f486e4a-844e-4562-9b64-3c764cc4ccff",
   "metadata": {},
   "outputs": [],
   "source": []
  }
 ],
 "metadata": {
  "kernelspec": {
   "display_name": "High Speed Camera",
   "language": "python",
   "name": "venv_hsc"
  },
  "language_info": {
   "codemirror_mode": {
    "name": "ipython",
    "version": 3
   },
   "file_extension": ".py",
   "mimetype": "text/x-python",
   "name": "python",
   "nbconvert_exporter": "python",
   "pygments_lexer": "ipython3",
   "version": "3.11.7"
  }
 },
 "nbformat": 4,
 "nbformat_minor": 5
}
